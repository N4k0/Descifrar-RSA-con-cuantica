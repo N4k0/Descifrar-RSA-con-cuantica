{
  "nbformat": 4,
  "nbformat_minor": 0,
  "metadata": {
    "colab": {
      "provenance": []
    },
    "kernelspec": {
      "name": "python3",
      "display_name": "Python 3"
    },
    "language_info": {
      "name": "python"
    }
  },
  "cells": [
    {
      "cell_type": "markdown",
      "source": [
        "#Instalacion de librerias"
      ],
      "metadata": {
        "id": "UkNyZEU39UBE"
      }
    },
    {
      "cell_type": "code",
      "execution_count": null,
      "metadata": {
        "id": "YL9s-uR3MNVz",
        "colab": {
          "base_uri": "https://localhost:8080/"
        },
        "outputId": "ac1b6e8e-9a67-405a-9b7b-604f141a0a23"
      },
      "outputs": [
        {
          "output_type": "stream",
          "name": "stdout",
          "text": [
            "Collecting qiskit\n",
            "  Downloading qiskit-1.1.1-cp38-abi3-manylinux_2_17_x86_64.manylinux2014_x86_64.whl.metadata (12 kB)\n",
            "Collecting rustworkx>=0.14.0 (from qiskit)\n",
            "  Downloading rustworkx-0.15.1-cp38-abi3-manylinux_2_17_x86_64.manylinux2014_x86_64.whl.metadata (9.9 kB)\n",
            "Requirement already satisfied: numpy<3,>=1.17 in /usr/local/lib/python3.10/dist-packages (from qiskit) (1.26.4)\n",
            "Requirement already satisfied: scipy>=1.5 in /usr/local/lib/python3.10/dist-packages (from qiskit) (1.13.1)\n",
            "Requirement already satisfied: sympy>=1.3 in /usr/local/lib/python3.10/dist-packages (from qiskit) (1.13.1)\n",
            "Collecting dill>=0.3 (from qiskit)\n",
            "  Downloading dill-0.3.8-py3-none-any.whl.metadata (10 kB)\n",
            "Requirement already satisfied: python-dateutil>=2.8.0 in /usr/local/lib/python3.10/dist-packages (from qiskit) (2.8.2)\n",
            "Collecting stevedore>=3.0.0 (from qiskit)\n",
            "  Downloading stevedore-5.2.0-py3-none-any.whl.metadata (2.3 kB)\n",
            "Requirement already satisfied: typing-extensions in /usr/local/lib/python3.10/dist-packages (from qiskit) (4.12.2)\n",
            "Collecting symengine>=0.11 (from qiskit)\n",
            "  Downloading symengine-0.11.0-cp310-cp310-manylinux_2_12_x86_64.manylinux2010_x86_64.whl.metadata (1.2 kB)\n",
            "Requirement already satisfied: six>=1.5 in /usr/local/lib/python3.10/dist-packages (from python-dateutil>=2.8.0->qiskit) (1.16.0)\n",
            "Collecting pbr!=2.1.0,>=2.0.0 (from stevedore>=3.0.0->qiskit)\n",
            "  Downloading pbr-6.0.0-py2.py3-none-any.whl.metadata (1.3 kB)\n",
            "Requirement already satisfied: mpmath<1.4,>=1.1.0 in /usr/local/lib/python3.10/dist-packages (from sympy>=1.3->qiskit) (1.3.0)\n",
            "Downloading qiskit-1.1.1-cp38-abi3-manylinux_2_17_x86_64.manylinux2014_x86_64.whl (4.3 MB)\n",
            "\u001b[2K   \u001b[90m━━━━━━━━━━━━━━━━━━━━━━━━━━━━━━━━━━━━━━━━\u001b[0m \u001b[32m4.3/4.3 MB\u001b[0m \u001b[31m11.7 MB/s\u001b[0m eta \u001b[36m0:00:00\u001b[0m\n",
            "\u001b[?25hDownloading dill-0.3.8-py3-none-any.whl (116 kB)\n",
            "\u001b[2K   \u001b[90m━━━━━━━━━━━━━━━━━━━━━━━━━━━━━━━━━━━━━━━━\u001b[0m \u001b[32m116.3/116.3 kB\u001b[0m \u001b[31m3.9 MB/s\u001b[0m eta \u001b[36m0:00:00\u001b[0m\n",
            "\u001b[?25hDownloading rustworkx-0.15.1-cp38-abi3-manylinux_2_17_x86_64.manylinux2014_x86_64.whl (2.0 MB)\n",
            "\u001b[2K   \u001b[90m━━━━━━━━━━━━━━━━━━━━━━━━━━━━━━━━━━━━━━━━\u001b[0m \u001b[32m2.0/2.0 MB\u001b[0m \u001b[31m22.4 MB/s\u001b[0m eta \u001b[36m0:00:00\u001b[0m\n",
            "\u001b[?25hDownloading stevedore-5.2.0-py3-none-any.whl (49 kB)\n",
            "\u001b[2K   \u001b[90m━━━━━━━━━━━━━━━━━━━━━━━━━━━━━━━━━━━━━━━━\u001b[0m \u001b[32m49.7/49.7 kB\u001b[0m \u001b[31m2.8 MB/s\u001b[0m eta \u001b[36m0:00:00\u001b[0m\n",
            "\u001b[?25hDownloading symengine-0.11.0-cp310-cp310-manylinux_2_12_x86_64.manylinux2010_x86_64.whl (39.4 MB)\n",
            "\u001b[2K   \u001b[90m━━━━━━━━━━━━━━━━━━━━━━━━━━━━━━━━━━━━━━━━\u001b[0m \u001b[32m39.4/39.4 MB\u001b[0m \u001b[31m12.7 MB/s\u001b[0m eta \u001b[36m0:00:00\u001b[0m\n",
            "\u001b[?25hDownloading pbr-6.0.0-py2.py3-none-any.whl (107 kB)\n",
            "\u001b[2K   \u001b[90m━━━━━━━━━━━━━━━━━━━━━━━━━━━━━━━━━━━━━━━━\u001b[0m \u001b[32m107.5/107.5 kB\u001b[0m \u001b[31m3.2 MB/s\u001b[0m eta \u001b[36m0:00:00\u001b[0m\n",
            "\u001b[?25hInstalling collected packages: symengine, rustworkx, pbr, dill, stevedore, qiskit\n",
            "Successfully installed dill-0.3.8 pbr-6.0.0 qiskit-1.1.1 rustworkx-0.15.1 stevedore-5.2.0 symengine-0.11.0\n"
          ]
        }
      ],
      "source": [
        "!pip install qiskit"
      ]
    },
    {
      "cell_type": "code",
      "source": [
        "!pip install qiskit-aer"
      ],
      "metadata": {
        "colab": {
          "base_uri": "https://localhost:8080/"
        },
        "id": "uXzSI_qucVhV",
        "outputId": "ea9376c1-3e67-4c7d-ee3f-28d73a25c6a9"
      },
      "execution_count": null,
      "outputs": [
        {
          "output_type": "stream",
          "name": "stdout",
          "text": [
            "Collecting qiskit-aer\n",
            "  Downloading qiskit_aer-0.14.2-cp310-cp310-manylinux_2_17_x86_64.manylinux2014_x86_64.whl.metadata (8.1 kB)\n",
            "Requirement already satisfied: qiskit>=0.45.2 in /usr/local/lib/python3.10/dist-packages (from qiskit-aer) (1.1.1)\n",
            "Requirement already satisfied: numpy>=1.16.3 in /usr/local/lib/python3.10/dist-packages (from qiskit-aer) (1.26.4)\n",
            "Requirement already satisfied: scipy>=1.0 in /usr/local/lib/python3.10/dist-packages (from qiskit-aer) (1.13.1)\n",
            "Requirement already satisfied: psutil>=5 in /usr/local/lib/python3.10/dist-packages (from qiskit-aer) (5.9.5)\n",
            "Requirement already satisfied: rustworkx>=0.14.0 in /usr/local/lib/python3.10/dist-packages (from qiskit>=0.45.2->qiskit-aer) (0.15.1)\n",
            "Requirement already satisfied: sympy>=1.3 in /usr/local/lib/python3.10/dist-packages (from qiskit>=0.45.2->qiskit-aer) (1.13.1)\n",
            "Requirement already satisfied: dill>=0.3 in /usr/local/lib/python3.10/dist-packages (from qiskit>=0.45.2->qiskit-aer) (0.3.8)\n",
            "Requirement already satisfied: python-dateutil>=2.8.0 in /usr/local/lib/python3.10/dist-packages (from qiskit>=0.45.2->qiskit-aer) (2.8.2)\n",
            "Requirement already satisfied: stevedore>=3.0.0 in /usr/local/lib/python3.10/dist-packages (from qiskit>=0.45.2->qiskit-aer) (5.2.0)\n",
            "Requirement already satisfied: typing-extensions in /usr/local/lib/python3.10/dist-packages (from qiskit>=0.45.2->qiskit-aer) (4.12.2)\n",
            "Requirement already satisfied: symengine>=0.11 in /usr/local/lib/python3.10/dist-packages (from qiskit>=0.45.2->qiskit-aer) (0.11.0)\n",
            "Requirement already satisfied: six>=1.5 in /usr/local/lib/python3.10/dist-packages (from python-dateutil>=2.8.0->qiskit>=0.45.2->qiskit-aer) (1.16.0)\n",
            "Requirement already satisfied: pbr!=2.1.0,>=2.0.0 in /usr/local/lib/python3.10/dist-packages (from stevedore>=3.0.0->qiskit>=0.45.2->qiskit-aer) (6.0.0)\n",
            "Requirement already satisfied: mpmath<1.4,>=1.1.0 in /usr/local/lib/python3.10/dist-packages (from sympy>=1.3->qiskit>=0.45.2->qiskit-aer) (1.3.0)\n",
            "Downloading qiskit_aer-0.14.2-cp310-cp310-manylinux_2_17_x86_64.manylinux2014_x86_64.whl (12.4 MB)\n",
            "\u001b[2K   \u001b[90m━━━━━━━━━━━━━━━━━━━━━━━━━━━━━━━━━━━━━━━━\u001b[0m \u001b[32m12.4/12.4 MB\u001b[0m \u001b[31m48.9 MB/s\u001b[0m eta \u001b[36m0:00:00\u001b[0m\n",
            "\u001b[?25hInstalling collected packages: qiskit-aer\n",
            "Successfully installed qiskit-aer-0.14.2\n"
          ]
        }
      ]
    },
    {
      "cell_type": "markdown",
      "source": [
        "# Librerias"
      ],
      "metadata": {
        "id": "p_P5TJBwcunQ"
      }
    },
    {
      "cell_type": "code",
      "source": [
        "from qiskit import *\n",
        "from qiskit.visualization import plot_histogram\n",
        "from math import pi\n",
        "from qiskit import QuantumCircuit, transpile, assemble\n",
        "from qiskit_aer import Aer"
      ],
      "metadata": {
        "id": "nA1TRY54cXSO"
      },
      "execution_count": null,
      "outputs": []
    },
    {
      "cell_type": "markdown",
      "source": [
        "# Codigo shor"
      ],
      "metadata": {
        "id": "PMpCxSbmc9rv"
      }
    },
    {
      "cell_type": "markdown",
      "source": [
        "## Modulos => _7mod15, QFT"
      ],
      "metadata": {
        "id": "eNKqxFSdc4NG"
      }
    },
    {
      "cell_type": "code",
      "source": [
        "def _7mod15():\n",
        "    circ = QuantumCircuit(8)\n",
        "    circ.x(4)\n",
        "    circ.cx(0,5)\n",
        "    circ.cx(0,6)\n",
        "    circ.cx(1,4)\n",
        "    circ.cx(1,6)\n",
        "    for i in range(4,8):\n",
        "        circ.ccx(0,1,i)\n",
        "    gate = circ.to_gate()\n",
        "    gate.name = \"7^x mod 15\"\n",
        "    return gate\n",
        "\n",
        "def QFT(n):\n",
        "    qft_circ = QuantumCircuit(n)\n",
        "    for i in range(n-1, -1, -1):\n",
        "        qft_circ.h(i)\n",
        "\n",
        "        for j in range(i - 1, -1, -1):\n",
        "            qft_circ.cp(pi/(2 ** (i - j)), j, i)\n",
        "\n",
        "\n",
        "    for i in range(n // 2):\n",
        "        qft_circ.swap(i, n - i - 1)\n",
        "    gate = qft_circ.to_gate()\n",
        "    gate.name = \"QFT\" + str(n)\n",
        "    return  gate"
      ],
      "metadata": {
        "id": "Ok6lAAKqcYvm"
      },
      "execution_count": null,
      "outputs": []
    },
    {
      "cell_type": "markdown",
      "source": [
        "## Circuito"
      ],
      "metadata": {
        "id": "9_Ag2ZEjdFl1"
      }
    },
    {
      "cell_type": "code",
      "source": [
        "circ = QuantumCircuit(8,4)\n",
        "circ.h(range(4))\n",
        "circ.append(_7mod15(), range(8))\n",
        "circ.measure(range(4,8),range(4))\n",
        "circ.barrier(range(8))\n",
        "circ.append(QFT(4), range(4))\n",
        "circ.measure(range(4), range(4))\n",
        "circ.draw(output = 'text')"
      ],
      "metadata": {
        "colab": {
          "base_uri": "https://localhost:8080/",
          "height": 310
        },
        "id": "K3Cl7tJncaSP",
        "outputId": "7d40f057-dcc3-4a86-bed9-8aafe6ff10b7"
      },
      "execution_count": null,
      "outputs": [
        {
          "output_type": "execute_result",
          "data": {
            "text/plain": [
              "     ┌───┐┌─────────────┐             ░ ┌───────┐┌─┐         \n",
              "q_0: ┤ H ├┤0            ├─────────────░─┤0      ├┤M├─────────\n",
              "     ├───┤│             │             ░ │       │└╥┘┌─┐      \n",
              "q_1: ┤ H ├┤1            ├─────────────░─┤1      ├─╫─┤M├──────\n",
              "     ├───┤│             │             ░ │  QFT4 │ ║ └╥┘┌─┐   \n",
              "q_2: ┤ H ├┤2            ├─────────────░─┤2      ├─╫──╫─┤M├───\n",
              "     ├───┤│             │             ░ │       │ ║  ║ └╥┘┌─┐\n",
              "q_3: ┤ H ├┤3            ├─────────────░─┤3      ├─╫──╫──╫─┤M├\n",
              "     └───┘│  7^x mod 15 │┌─┐          ░ └───────┘ ║  ║  ║ └╥┘\n",
              "q_4: ─────┤4            ├┤M├──────────░───────────╫──╫──╫──╫─\n",
              "          │             │└╥┘┌─┐       ░           ║  ║  ║  ║ \n",
              "q_5: ─────┤5            ├─╫─┤M├───────░───────────╫──╫──╫──╫─\n",
              "          │             │ ║ └╥┘┌─┐    ░           ║  ║  ║  ║ \n",
              "q_6: ─────┤6            ├─╫──╫─┤M├────░───────────╫──╫──╫──╫─\n",
              "          │             │ ║  ║ └╥┘┌─┐ ░           ║  ║  ║  ║ \n",
              "q_7: ─────┤7            ├─╫──╫──╫─┤M├─░───────────╫──╫──╫──╫─\n",
              "          └─────────────┘ ║  ║  ║ └╥┘ ░           ║  ║  ║  ║ \n",
              "c: 4/═════════════════════╩══╩══╩══╩══════════════╩══╩══╩══╩═\n",
              "                          0  1  2  3              0  1  2  3 "
            ],
            "text/html": [
              "<pre style=\"word-wrap: normal;white-space: pre;background: #fff0;line-height: 1.1;font-family: &quot;Courier New&quot;,Courier,monospace\">     ┌───┐┌─────────────┐             ░ ┌───────┐┌─┐         \n",
              "q_0: ┤ H ├┤0            ├─────────────░─┤0      ├┤M├─────────\n",
              "     ├───┤│             │             ░ │       │└╥┘┌─┐      \n",
              "q_1: ┤ H ├┤1            ├─────────────░─┤1      ├─╫─┤M├──────\n",
              "     ├───┤│             │             ░ │  QFT4 │ ║ └╥┘┌─┐   \n",
              "q_2: ┤ H ├┤2            ├─────────────░─┤2      ├─╫──╫─┤M├───\n",
              "     ├───┤│             │             ░ │       │ ║  ║ └╥┘┌─┐\n",
              "q_3: ┤ H ├┤3            ├─────────────░─┤3      ├─╫──╫──╫─┤M├\n",
              "     └───┘│  7^x mod 15 │┌─┐          ░ └───────┘ ║  ║  ║ └╥┘\n",
              "q_4: ─────┤4            ├┤M├──────────░───────────╫──╫──╫──╫─\n",
              "          │             │└╥┘┌─┐       ░           ║  ║  ║  ║ \n",
              "q_5: ─────┤5            ├─╫─┤M├───────░───────────╫──╫──╫──╫─\n",
              "          │             │ ║ └╥┘┌─┐    ░           ║  ║  ║  ║ \n",
              "q_6: ─────┤6            ├─╫──╫─┤M├────░───────────╫──╫──╫──╫─\n",
              "          │             │ ║  ║ └╥┘┌─┐ ░           ║  ║  ║  ║ \n",
              "q_7: ─────┤7            ├─╫──╫──╫─┤M├─░───────────╫──╫──╫──╫─\n",
              "          └─────────────┘ ║  ║  ║ └╥┘ ░           ║  ║  ║  ║ \n",
              "c: 4/═════════════════════╩══╩══╩══╩══════════════╩══╩══╩══╩═\n",
              "                          0  1  2  3              0  1  2  3 </pre>"
            ]
          },
          "metadata": {},
          "execution_count": 5
        }
      ]
    },
    {
      "cell_type": "markdown",
      "source": [
        "## simulacion"
      ],
      "metadata": {
        "id": "ufoeEuJAdHz1"
      }
    },
    {
      "cell_type": "code",
      "source": [
        "# Seleccionar el backend\n",
        "backend = Aer.get_backend(\"aer_simulator\")\n",
        "\n",
        "# Compilar el circuito para el backend\n",
        "transpiled_circuit = transpile(circ, backend)\n",
        "\n",
        "# Ejecutar el circuito\n",
        "job = backend.run(transpiled_circuit, shots=100000)\n",
        "\n",
        "# Obtener los resultados\n",
        "result = job.result()\n",
        "counts = result.get_counts()\n",
        "\n",
        "# Visualizar los resultados\n",
        "plot_histogram(counts)"
      ],
      "metadata": {
        "colab": {
          "base_uri": "https://localhost:8080/",
          "height": 454
        },
        "id": "VlOH2MtGco1O",
        "outputId": "b9f7e7c6-8593-4171-9cb5-664dfcb6b30e"
      },
      "execution_count": null,
      "outputs": [
        {
          "output_type": "execute_result",
          "data": {
            "text/plain": [
              "<Figure size 640x480 with 1 Axes>"
            ],
            "image/png": "[encoded data removed]"
          },
          "metadata": {},
          "execution_count": 6
        }
      ]
    },
    {
      "cell_type": "markdown",
      "source": [
        "## Verificacion"
      ],
      "metadata": {
        "id": "LmGpmb6qdKu2"
      }
    },
    {
      "cell_type": "code",
      "source": [
        "# con esto sabemos que 4 es raiz cuadrada ya que el mcd de 4 8 12 es 4\n",
        "# sabiendo esto podemos calcular los factores primos de la siguiente manera:\n",
        "\n",
        "import math\n",
        "\n",
        "primer_factor = math.gcd(4-1, 15)\n",
        "segundo_factor = math.gcd(4+1, 15)\n",
        "print(\"factores primos:\", primer_factor, segundo_factor)"
      ],
      "metadata": {
        "colab": {
          "base_uri": "https://localhost:8080/"
        },
        "id": "zYxeqcd_crot",
        "outputId": "3a2f2d42-516f-4366-f67f-fdd1e3dd1f83"
      },
      "execution_count": null,
      "outputs": [
        {
          "output_type": "stream",
          "name": "stdout",
          "text": [
            "factores primos: 3 5\n"
          ]
        }
      ]
    },
    {
      "cell_type": "markdown",
      "source": [
        "# Codigo RSA"
      ],
      "metadata": {
        "id": "BjUfzc8KdMt1"
      }
    },
    {
      "cell_type": "code",
      "source": [
        "import random\n",
        "from sympy import isprime, mod_inverse\n",
        "\n",
        "def generar_primo(bits):\n",
        "    while True:\n",
        "        # Generar un número aleatorio de bits\n",
        "        primo_candidato = random.getrandbits(bits)\n",
        "        # Comprobar si es primo\n",
        "        if isprime(primo_candidato):\n",
        "            return primo_candidato\n",
        "\n",
        "def generar_rsa_keys(bits):\n",
        "    # Elegir dos números primos\n",
        "    p = generar_primo(bits)\n",
        "    q = generar_primo(bits)\n",
        "\n",
        "    # Asegurar que p y q son diferentes\n",
        "    while q == p:\n",
        "        q = generar_primo(bits)\n",
        "\n",
        "    n = p * q\n",
        "    phi = (p - 1) * (q - 1)\n",
        "\n",
        "    # Elegir e, esta es una eleccion comun para e\n",
        "    e = 65537\n",
        "    d = mod_inverse(e, phi)\n",
        "\n",
        "    return (e, n), (d, n)\n",
        "\n",
        "def encriptar_rsa(public_key, plaintext):\n",
        "    e, n = public_key\n",
        "\n",
        "    # Convertir el mensaje a entero\n",
        "    plaintext_int = int.from_bytes(plaintext.encode(), 'big')\n",
        "\n",
        "    # Encriptar el mensaje y retornarlo\n",
        "    ciphertext = pow(plaintext_int, e, n)\n",
        "    return ciphertext\n",
        "\n",
        "def desencriptar_rsa(private_key, ciphertext):\n",
        "    d, n = private_key\n",
        "\n",
        "    # Desencriptar el mensaje y retornarlo\n",
        "    plaintext_int = pow(ciphertext, d, n)\n",
        "    plaintext_bytes = plaintext_int.to_bytes((plaintext_int.bit_length() + 7) // 8, 'big')\n",
        "\n",
        "    # Convertir el mensaje a string\n",
        "    return plaintext_bytes.decode()\n",
        "\n",
        "# Generar RSA keys\n",
        "public_key, private_key = generar_rsa_keys(45)\n",
        "\n",
        "# Ejemplo\n",
        "print(f\"Clave publica: {public_key}\")\n",
        "#print(f\"Clave privada: {private_key}\")\n",
        "mensaje = \"Encriptar RSA\"\n",
        "ciphertext = encriptar_rsa(public_key, mensaje)\n",
        "print(f\"Ciphertext: {ciphertext}\")\n",
        "\n",
        "decrypted_message = desencriptar_rsa(private_key, ciphertext)\n",
        "print(f\"Desencriptar mensaje: {decrypted_message}\")"
      ],
      "metadata": {
        "colab": {
          "base_uri": "https://localhost:8080/"
        },
        "id": "CU8yMo3ncsb2",
        "outputId": "605c7258-3a84-4605-d40e-471e3e0dc11b"
      },
      "execution_count": null,
      "outputs": [
        {
          "output_type": "stream",
          "name": "stdout",
          "text": [
            "Clave publica: (65537, 691823369496328420171130732762179039)\n",
            "Clave privada: (686587481505267202770305664470608681, 691823369496328420171130732762179039)\n",
            "Ciphertext: 400835043659274251263459860950663396\n",
            "Desencriptar mensaje: Encriptar RSA\n"
          ]
        }
      ]
    },
    {
      "cell_type": "code",
      "source": [
        "# pylint: disable=invalid-name\n",
        "import matplotlib.pyplot as plt\n",
        "import numpy as np\n",
        "from qiskit import QuantumCircuit, transpile\n",
        "from qiskit_aer import Aer\n",
        "from qiskit.visualization import plot_histogram\n",
        "from math import gcd\n",
        "from numpy.random import randint\n",
        "import pandas as pd\n",
        "from fractions import Fraction\n",
        "print(\"Imports Successful\")"
      ],
      "metadata": {
        "colab": {
          "base_uri": "https://localhost:8080/"
        },
        "id": "KmC6pliSK7qz",
        "outputId": "80f61bf5-12b0-451d-da45-80689c880012"
      },
      "execution_count": null,
      "outputs": [
        {
          "output_type": "stream",
          "name": "stdout",
          "text": [
            "Imports Successful\n"
          ]
        }
      ]
    },
    {
      "cell_type": "code",
      "source": [
        "ax.set(xlabel='Number of applications of U',\n",
        "       ylabel='End state of register',\n",
        "       title=\"Effect of Successive Applications of U\")\n",
        "fig"
      ],
      "metadata": {
        "colab": {
          "base_uri": "https://localhost:8080/",
          "height": 472
        },
        "id": "GZWHPgDZLFt7",
        "outputId": "0cbf86fd-75cb-4570-fd91-b1ce3f69bd03"
      },
      "execution_count": null,
      "outputs": [
        {
          "output_type": "execute_result",
          "data": {
            "text/plain": [
              "<Figure size 640x480 with 1 Axes>"
            ],
            "image/png": "[encoded data removed]"
          },
          "metadata": {},
          "execution_count": 11
        }
      ]
    },
    {
      "cell_type": "code",
      "source": [
        "def c_amod15(a, power):\n",
        "    \"\"\"Controlled multiplication by a mod 15\"\"\"\n",
        "    if a not in [2,4,7,8,11,13]:\n",
        "        raise ValueError(\"'a' must be 2,4,7,8,11 or 13\")\n",
        "    U = QuantumCircuit(4)\n",
        "    for _iteration in range(power):\n",
        "        if a in [2,13]:\n",
        "            U.swap(2,3)\n",
        "            U.swap(1,2)\n",
        "            U.swap(0,1)\n",
        "        if a in [7,8]:\n",
        "            U.swap(0,1)\n",
        "            U.swap(1,2)\n",
        "            U.swap(2,3)\n",
        "        if a in [4, 11]:\n",
        "            U.swap(1,3)\n",
        "            U.swap(0,2)\n",
        "        if a in [7,11,13]:\n",
        "            for q in range(4):\n",
        "                U.x(q)\n",
        "    U = U.to_gate()\n",
        "    U.name = f\"{a}^{power} mod 15\"\n",
        "    c_U = U.control()\n",
        "    return c_U"
      ],
      "metadata": {
        "id": "SaT-PkOjLH0r"
      },
      "execution_count": null,
      "outputs": []
    },
    {
      "cell_type": "code",
      "source": [
        "# Specify variables\n",
        "N_COUNT = 8  # number of counting qubits\n",
        "a = 7"
      ],
      "metadata": {
        "id": "svFTqHAALOUO"
      },
      "execution_count": null,
      "outputs": []
    },
    {
      "cell_type": "code",
      "source": [
        "def qft_dagger(n):\n",
        "    \"\"\"n-qubit QFTdagger the first n qubits in circ\"\"\"\n",
        "    qc = QuantumCircuit(n)\n",
        "    # Don't forget the Swaps!\n",
        "    for qubit in range(n//2):\n",
        "        qc.swap(qubit, n-qubit-1)\n",
        "    for j in range(n):\n",
        "        for m in range(j):\n",
        "            qc.cp(-np.pi/float(2**(j-m)), m, j)\n",
        "        qc.h(j)\n",
        "    qc.name = \"QFT†\"\n",
        "    return qc"
      ],
      "metadata": {
        "id": "RXhS8DxhLVVz"
      },
      "execution_count": null,
      "outputs": []
    },
    {
      "cell_type": "code",
      "source": [
        "# Create QuantumCircuit with N_COUNT counting qubits\n",
        "# plus 4 qubits for U to act on\n",
        "qc = QuantumCircuit(N_COUNT + 4, N_COUNT)\n",
        "\n",
        "# Initialize counting qubits\n",
        "# in state |+>\n",
        "for q in range(N_COUNT):\n",
        "    qc.h(q)\n",
        "\n",
        "# And auxiliary register in state |1>\n",
        "qc.x(N_COUNT)\n",
        "\n",
        "# Do controlled-U operations\n",
        "for q in range(N_COUNT):\n",
        "    qc.append(c_amod15(a, 2**q),\n",
        "             [q] + [i+N_COUNT for i in range(4)])\n",
        "\n",
        "# Do inverse-QFT\n",
        "qc.append(qft_dagger(N_COUNT), range(N_COUNT))\n",
        "\n",
        "# Measure circuit\n",
        "qc.measure(range(N_COUNT), range(N_COUNT))\n",
        "qc.draw(fold=-1)  # -1 means 'do not fold'"
      ],
      "metadata": {
        "colab": {
          "base_uri": "https://localhost:8080/",
          "height": 453
        },
        "id": "NrYJIRrhLWAk",
        "outputId": "cc75402c-fea3-4b4a-f12d-bb0385055677"
      },
      "execution_count": null,
      "outputs": [
        {
          "output_type": "execute_result",
          "data": {
            "text/plain": [
              "      ┌───┐                                                                                                                             ┌───────┐┌─┐                     \n",
              " q_0: ┤ H ├───────■─────────────────────────────────────────────────────────────────────────────────────────────────────────────────────┤0      ├┤M├─────────────────────\n",
              "      ├───┤       │                                                                                                                     │       │└╥┘┌─┐                  \n",
              " q_1: ┤ H ├───────┼──────────────■──────────────────────────────────────────────────────────────────────────────────────────────────────┤1      ├─╫─┤M├──────────────────\n",
              "      ├───┤       │              │                                                                                                      │       │ ║ └╥┘┌─┐               \n",
              " q_2: ┤ H ├───────┼──────────────┼──────────────■───────────────────────────────────────────────────────────────────────────────────────┤2      ├─╫──╫─┤M├───────────────\n",
              "      ├───┤       │              │              │                                                                                       │       │ ║  ║ └╥┘┌─┐            \n",
              " q_3: ┤ H ├───────┼──────────────┼──────────────┼──────────────■────────────────────────────────────────────────────────────────────────┤3      ├─╫──╫──╫─┤M├────────────\n",
              "      ├───┤       │              │              │              │                                                                        │  QFT† │ ║  ║  ║ └╥┘┌─┐         \n",
              " q_4: ┤ H ├───────┼──────────────┼──────────────┼──────────────┼──────────────■─────────────────────────────────────────────────────────┤4      ├─╫──╫──╫──╫─┤M├─────────\n",
              "      ├───┤       │              │              │              │              │                                                         │       │ ║  ║  ║  ║ └╥┘┌─┐      \n",
              " q_5: ┤ H ├───────┼──────────────┼──────────────┼──────────────┼──────────────┼───────────────■─────────────────────────────────────────┤5      ├─╫──╫──╫──╫──╫─┤M├──────\n",
              "      ├───┤       │              │              │              │              │               │                                         │       │ ║  ║  ║  ║  ║ └╥┘┌─┐   \n",
              " q_6: ┤ H ├───────┼──────────────┼──────────────┼──────────────┼──────────────┼───────────────┼───────────────■─────────────────────────┤6      ├─╫──╫──╫──╫──╫──╫─┤M├───\n",
              "      ├───┤       │              │              │              │              │               │               │                         │       │ ║  ║  ║  ║  ║  ║ └╥┘┌─┐\n",
              " q_7: ┤ H ├───────┼──────────────┼──────────────┼──────────────┼──────────────┼───────────────┼───────────────┼────────────────■────────┤7      ├─╫──╫──╫──╫──╫──╫──╫─┤M├\n",
              "      ├───┤┌──────┴──────┐┌──────┴──────┐┌──────┴──────┐┌──────┴──────┐┌──────┴───────┐┌──────┴───────┐┌──────┴───────┐┌───────┴───────┐└───────┘ ║  ║  ║  ║  ║  ║  ║ └╥┘\n",
              " q_8: ┤ X ├┤0            ├┤0            ├┤0            ├┤0            ├┤0             ├┤0             ├┤0             ├┤0              ├──────────╫──╫──╫──╫──╫──╫──╫──╫─\n",
              "      └───┘│             ││             ││             ││             ││              ││              ││              ││               │          ║  ║  ║  ║  ║  ║  ║  ║ \n",
              " q_9: ─────┤1            ├┤1            ├┤1            ├┤1            ├┤1             ├┤1             ├┤1             ├┤1              ├──────────╫──╫──╫──╫──╫──╫──╫──╫─\n",
              "           │  7^1 mod 15 ││  7^2 mod 15 ││  7^4 mod 15 ││  7^8 mod 15 ││  7^16 mod 15 ││  7^32 mod 15 ││  7^64 mod 15 ││  7^128 mod 15 │          ║  ║  ║  ║  ║  ║  ║  ║ \n",
              "q_10: ─────┤2            ├┤2            ├┤2            ├┤2            ├┤2             ├┤2             ├┤2             ├┤2              ├──────────╫──╫──╫──╫──╫──╫──╫──╫─\n",
              "           │             ││             ││             ││             ││              ││              ││              ││               │          ║  ║  ║  ║  ║  ║  ║  ║ \n",
              "q_11: ─────┤3            ├┤3            ├┤3            ├┤3            ├┤3             ├┤3             ├┤3             ├┤3              ├──────────╫──╫──╫──╫──╫──╫──╫──╫─\n",
              "           └─────────────┘└─────────────┘└─────────────┘└─────────────┘└──────────────┘└──────────────┘└──────────────┘└───────────────┘          ║  ║  ║  ║  ║  ║  ║  ║ \n",
              " c: 8/════════════════════════════════════════════════════════════════════════════════════════════════════════════════════════════════════════════╩══╩══╩══╩══╩══╩══╩══╩═\n",
              "                                                                                                                                                  0  1  2  3  4  5  6  7 "
            ],
            "text/html": [
              "<pre style=\"word-wrap: normal;white-space: pre;background: #fff0;line-height: 1.1;font-family: &quot;Courier New&quot;,Courier,monospace\">      ┌───┐                                                                                                                             ┌───────┐┌─┐                     \n",
              " q_0: ┤ H ├───────■─────────────────────────────────────────────────────────────────────────────────────────────────────────────────────┤0      ├┤M├─────────────────────\n",
              "      ├───┤       │                                                                                                                     │       │└╥┘┌─┐                  \n",
              " q_1: ┤ H ├───────┼──────────────■──────────────────────────────────────────────────────────────────────────────────────────────────────┤1      ├─╫─┤M├──────────────────\n",
              "      ├───┤       │              │                                                                                                      │       │ ║ └╥┘┌─┐               \n",
              " q_2: ┤ H ├───────┼──────────────┼──────────────■───────────────────────────────────────────────────────────────────────────────────────┤2      ├─╫──╫─┤M├───────────────\n",
              "      ├───┤       │              │              │                                                                                       │       │ ║  ║ └╥┘┌─┐            \n",
              " q_3: ┤ H ├───────┼──────────────┼──────────────┼──────────────■────────────────────────────────────────────────────────────────────────┤3      ├─╫──╫──╫─┤M├────────────\n",
              "      ├───┤       │              │              │              │                                                                        │  QFT† │ ║  ║  ║ └╥┘┌─┐         \n",
              " q_4: ┤ H ├───────┼──────────────┼──────────────┼──────────────┼──────────────■─────────────────────────────────────────────────────────┤4      ├─╫──╫──╫──╫─┤M├─────────\n",
              "      ├───┤       │              │              │              │              │                                                         │       │ ║  ║  ║  ║ └╥┘┌─┐      \n",
              " q_5: ┤ H ├───────┼──────────────┼──────────────┼──────────────┼──────────────┼───────────────■─────────────────────────────────────────┤5      ├─╫──╫──╫──╫──╫─┤M├──────\n",
              "      ├───┤       │              │              │              │              │               │                                         │       │ ║  ║  ║  ║  ║ └╥┘┌─┐   \n",
              " q_6: ┤ H ├───────┼──────────────┼──────────────┼──────────────┼──────────────┼───────────────┼───────────────■─────────────────────────┤6      ├─╫──╫──╫──╫──╫──╫─┤M├───\n",
              "      ├───┤       │              │              │              │              │               │               │                         │       │ ║  ║  ║  ║  ║  ║ └╥┘┌─┐\n",
              " q_7: ┤ H ├───────┼──────────────┼──────────────┼──────────────┼──────────────┼───────────────┼───────────────┼────────────────■────────┤7      ├─╫──╫──╫──╫──╫──╫──╫─┤M├\n",
              "      ├───┤┌──────┴──────┐┌──────┴──────┐┌──────┴──────┐┌──────┴──────┐┌──────┴───────┐┌──────┴───────┐┌──────┴───────┐┌───────┴───────┐└───────┘ ║  ║  ║  ║  ║  ║  ║ └╥┘\n",
              " q_8: ┤ X ├┤0            ├┤0            ├┤0            ├┤0            ├┤0             ├┤0             ├┤0             ├┤0              ├──────────╫──╫──╫──╫──╫──╫──╫──╫─\n",
              "      └───┘│             ││             ││             ││             ││              ││              ││              ││               │          ║  ║  ║  ║  ║  ║  ║  ║ \n",
              " q_9: ─────┤1            ├┤1            ├┤1            ├┤1            ├┤1             ├┤1             ├┤1             ├┤1              ├──────────╫──╫──╫──╫──╫──╫──╫──╫─\n",
              "           │  7^1 mod 15 ││  7^2 mod 15 ││  7^4 mod 15 ││  7^8 mod 15 ││  7^16 mod 15 ││  7^32 mod 15 ││  7^64 mod 15 ││  7^128 mod 15 │          ║  ║  ║  ║  ║  ║  ║  ║ \n",
              "q_10: ─────┤2            ├┤2            ├┤2            ├┤2            ├┤2             ├┤2             ├┤2             ├┤2              ├──────────╫──╫──╫──╫──╫──╫──╫──╫─\n",
              "           │             ││             ││             ││             ││              ││              ││              ││               │          ║  ║  ║  ║  ║  ║  ║  ║ \n",
              "q_11: ─────┤3            ├┤3            ├┤3            ├┤3            ├┤3             ├┤3             ├┤3             ├┤3              ├──────────╫──╫──╫──╫──╫──╫──╫──╫─\n",
              "           └─────────────┘└─────────────┘└─────────────┘└─────────────┘└──────────────┘└──────────────┘└──────────────┘└───────────────┘          ║  ║  ║  ║  ║  ║  ║  ║ \n",
              " c: 8/════════════════════════════════════════════════════════════════════════════════════════════════════════════════════════════════════════════╩══╩══╩══╩══╩══╩══╩══╩═\n",
              "                                                                                                                                                  0  1  2  3  4  5  6  7 </pre>"
            ]
          },
          "metadata": {},
          "execution_count": 15
        }
      ]
    },
    {
      "cell_type": "code",
      "source": [
        "aer_sim = Aer.get_backend('aer_simulator')\n",
        "t_qc = transpile(qc, aer_sim)\n",
        "counts = aer_sim.run(t_qc).result().get_counts()\n",
        "plot_histogram(counts)"
      ],
      "metadata": {
        "colab": {
          "base_uri": "https://localhost:8080/",
          "height": 487
        },
        "id": "FHCwnI0DLbfr",
        "outputId": "b1943361-f954-45b3-9f37-f7162589cbd5"
      },
      "execution_count": null,
      "outputs": [
        {
          "output_type": "execute_result",
          "data": {
            "text/plain": [
              "<Figure size 640x480 with 1 Axes>"
            ],
            "image/png": "[encoded data removed]"
          },
          "metadata": {},
          "execution_count": 16
        }
      ]
    },
    {
      "cell_type": "code",
      "source": [
        "rows, measured_phases = [], []\n",
        "for output in counts:\n",
        "    decimal = int(output, 2)  # Convert (base 2) string to decimal\n",
        "    phase = decimal/(2**N_COUNT)  # Find corresponding eigenvalue\n",
        "    measured_phases.append(phase)\n",
        "    # Add these values to the rows in our table:\n",
        "    rows.append([f\"{output}(bin) = {decimal:>3}(dec)\",\n",
        "                 f\"{decimal}/{2**N_COUNT} = {phase:.2f}\"])\n",
        "# Print the rows in a table\n",
        "headers=[\"Register Output\", \"Phase\"]\n",
        "df = pd.DataFrame(rows, columns=headers)\n",
        "print(df)"
      ],
      "metadata": {
        "colab": {
          "base_uri": "https://localhost:8080/"
        },
        "id": "CEWBepk_LeU1",
        "outputId": "b45f11e3-b0ef-4afd-b06c-813fb8a1d033"
      },
      "execution_count": null,
      "outputs": [
        {
          "output_type": "stream",
          "name": "stdout",
          "text": [
            "            Register Output           Phase\n",
            "0  11000000(bin) = 192(dec)  192/256 = 0.75\n",
            "1  01000000(bin) =  64(dec)   64/256 = 0.25\n",
            "2  00000000(bin) =   0(dec)    0/256 = 0.00\n",
            "3  10000000(bin) = 128(dec)  128/256 = 0.50\n"
          ]
        }
      ]
    },
    {
      "cell_type": "code",
      "source": [
        "N = public_key[1]"
      ],
      "metadata": {
        "id": "8acSIgrAMT-U"
      },
      "execution_count": null,
      "outputs": []
    },
    {
      "cell_type": "code",
      "source": [
        "N = 15"
      ],
      "metadata": {
        "id": "wG5v-lynMia2"
      },
      "execution_count": null,
      "outputs": []
    },
    {
      "cell_type": "code",
      "source": [
        "np.random.seed(1) # This is to make sure we get reproduceable results\n",
        "if N > 9000000000000000000:\n",
        "  a = randint(2, 9000000000000000000)\n",
        "else:\n",
        "  a = randint(2, N)\n",
        "print(a)"
      ],
      "metadata": {
        "colab": {
          "base_uri": "https://localhost:8080/"
        },
        "id": "RwuPMvfZMjrs",
        "outputId": "a5064874-0d24-4743-bf4d-907013e866d6"
      },
      "execution_count": null,
      "outputs": [
        {
          "output_type": "stream",
          "name": "stdout",
          "text": [
            "7692698082559361261\n"
          ]
        }
      ]
    },
    {
      "cell_type": "code",
      "source": [
        "from math import gcd # greatest common divisor\n",
        "gcd(a, N)"
      ],
      "metadata": {
        "colab": {
          "base_uri": "https://localhost:8080/"
        },
        "id": "-P_jDQa_N9Il",
        "outputId": "74232713-703d-42e1-c358-5bef94c008a8"
      },
      "execution_count": null,
      "outputs": [
        {
          "output_type": "execute_result",
          "data": {
            "text/plain": [
              "1"
            ]
          },
          "metadata": {},
          "execution_count": 51
        }
      ]
    },
    {
      "cell_type": "code",
      "source": [
        "def qpe_amod15(a):\n",
        "    \"\"\"Performs quantum phase estimation on the operation a*r mod 15.\n",
        "    Args:\n",
        "        a (int): This is 'a' in a*r mod 15\n",
        "    Returns:\n",
        "        float: Estimate of the phase\n",
        "    \"\"\"\n",
        "    N_COUNT = 8\n",
        "    qc = QuantumCircuit(4+N_COUNT, N_COUNT)\n",
        "    for q in range(N_COUNT):\n",
        "        qc.h(q)     # Initialize counting qubits in state |+>\n",
        "    qc.x(N_COUNT) # And auxiliary register in state |1>\n",
        "    for q in range(N_COUNT): # Do controlled-U operations\n",
        "        qc.append(c_amod15(a, 2**q),\n",
        "                 [q] + [i+N_COUNT for i in range(4)])\n",
        "    qc.append(qft_dagger(N_COUNT), range(N_COUNT)) # Do inverse-QFT\n",
        "    qc.measure(range(N_COUNT), range(N_COUNT))\n",
        "    # Simulate Results\n",
        "    aer_sim = Aer.get_backend('aer_simulator')\n",
        "    # `memory=True` tells the backend to save each measurement in a list\n",
        "    job = aer_sim.run(transpile(qc, aer_sim), shots=1, memory=True)\n",
        "    readings = job.result().get_memory()\n",
        "    print(\"Register Reading: \" + readings[0])\n",
        "    phase = int(readings[0],2)/(2**N_COUNT)\n",
        "    print(f\"Corresponding Phase: {phase}\")\n",
        "    return phase"
      ],
      "metadata": {
        "id": "wSK6shLnOBwd"
      },
      "execution_count": null,
      "outputs": []
    },
    {
      "cell_type": "code",
      "source": [
        "frac = Fraction(phase).limit_denominator(15)\n",
        "s, r = frac.numerator, frac.denominator\n",
        "print(r)"
      ],
      "metadata": {
        "colab": {
          "base_uri": "https://localhost:8080/"
        },
        "id": "HdcmwpScOws0",
        "outputId": "778e7c25-a213-46c1-ff34-36f2e423456f"
      },
      "execution_count": null,
      "outputs": [
        {
          "output_type": "stream",
          "name": "stdout",
          "text": [
            "2\n"
          ]
        }
      ]
    },
    {
      "cell_type": "code",
      "source": [
        "guesses = [gcd(a**(r//2)-1, N), gcd(a**(r//2)+1, N)]\n",
        "print(guesses)"
      ],
      "metadata": {
        "colab": {
          "base_uri": "https://localhost:8080/"
        },
        "id": "tukt05vUOzWs",
        "outputId": "91e9ec64-43c9-4752-90e2-1b5cb1f9372f"
      },
      "execution_count": null,
      "outputs": [
        {
          "output_type": "stream",
          "name": "stdout",
          "text": [
            "[1, 1]\n"
          ]
        }
      ]
    }
  ]
}